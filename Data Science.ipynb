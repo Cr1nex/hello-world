{
  "metadata": {
    "kernelspec": {
      "name": "python",
      "display_name": "Python (Pyodide)",
      "language": "python"
    },
    "language_info": {
      "codemirror_mode": {
        "name": "python",
        "version": 3
      },
      "file_extension": ".py",
      "mimetype": "text/x-python",
      "name": "python",
      "nbconvert_exporter": "python",
      "pygments_lexer": "ipython3",
      "version": "3.8"
    }
  },
  "nbformat_minor": 4,
  "nbformat": 4,
  "cells": [
    {
      "cell_type": "markdown",
      "source": "<h1>Data Science</h1>",
      "metadata": {}
    },
    {
      "cell_type": "markdown",
      "source": "<h1>Introduction</h1>\n\nThis notebook contains examples and exercises related to data science, including programming languages, libraries, tools, and arithmetic operations",
      "metadata": {}
    },
    {
      "cell_type": "markdown",
      "source": "<h1>Data Science Languages</h1>\n\nSome of the popular languages that Data Scientists use are:\n- Python\n- R\n- SQL\n- Julia\n- Scala",
      "metadata": {}
    },
    {
      "cell_type": "markdown",
      "source": "<h1>Data Science Libraries</h1>\n\nSome of the commonly used libraries used by Data Scientists include:\n- Pandas\n- NumPy\n- Matplotlib\n- Scikit-learn\n- TensorFlow\n- Keras",
      "metadata": {}
    },
    {
      "cell_type": "markdown",
      "source": "<h1>Data Science Tools</h1>\n\n| Tool            | Description                           |\n|-----------------|---------------------------------------|\n| Jupyter Notebook| Interactive computing environment     |\n| RStudio         | IDE for R                             |\n| TensorFlow      | Machine learning framework            |\n| Apache Spark    | Cluster-computing framework           |\n| Tableau         | Data visualization tool               |",
      "metadata": {}
    },
    {
      "cell_type": "markdown",
      "source": "<h1>Arithmetic Expression Examples </h1>\n\nIn this section, we will explore some basic arithmetic operations such as addition, multiplication, and conversion of units.",
      "metadata": {}
    },
    {
      "cell_type": "markdown",
      "source": "<h1>Multiply and add numbers</h1>\na = 3\nb = 2\nresult = a * b + b\nresult",
      "metadata": {}
    },
    {
      "cell_type": "code",
      "source": "# Convert minutes to hours\nminutes = 60\nhours = minutes / 60\nhours",
      "metadata": {
        "trusted": true
      },
      "outputs": [],
      "execution_count": null
    },
    {
      "cell_type": "code",
      "source": "## Objectives\n\n#The objectives of this notebook are:\n#- To understand the different languages used in data science\n#- To learn about popular data science libraries\n#- To familiarize with data science tools\n#- To practice arithmetic operations in Python",
      "metadata": {
        "trusted": true
      },
      "outputs": [],
      "execution_count": null
    },
    {
      "cell_type": "markdown",
      "source": "<>Author\n\nBatu Ozer",
      "metadata": {}
    }
  ]
}